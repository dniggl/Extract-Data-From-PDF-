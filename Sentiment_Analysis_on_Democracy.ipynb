{
  "nbformat": 4,
  "nbformat_minor": 0,
  "metadata": {
    "colab": {
      "provenance": [],
      "collapsed_sections": [],
      "authorship_tag": "ABX9TyOXW6YCcBedRZ6HQA8L9jqV",
      "include_colab_link": true
    },
    "kernelspec": {
      "name": "python3",
      "display_name": "Python 3"
    },
    "language_info": {
      "name": "python"
    }
  },
  "cells": [
    {
      "cell_type": "markdown",
      "metadata": {
        "id": "view-in-github",
        "colab_type": "text"
      },
      "source": [
        "<a href=\"https://colab.research.google.com/github/dniggl/Extract-Data-From-PDF-/blob/main/Sentiment_Analysis_on_Democracy.ipynb\" target=\"_parent\"><img src=\"https://colab.research.google.com/assets/colab-badge.svg\" alt=\"Open In Colab\"/></a>"
      ]
    },
    {
      "cell_type": "code",
      "metadata": {
        "id": "bEkrk8RutUUG"
      },
      "source": [
        "# Sentiment analysis on tweets related to Democracy.   "
      ],
      "execution_count": null,
      "outputs": []
    },
    {
      "cell_type": "markdown",
      "source": [
        "**Install the Package**"
      ],
      "metadata": {
        "id": "R9rht_MY_BMS"
      }
    },
    {
      "cell_type": "markdown",
      "source": [
        "To get started you will need to install the tweepy package. Tweepy is an open source Python package that gives you an easy way to access the Twitter API with Python. "
      ],
      "metadata": {
        "id": "wUr9bviyARvt"
      }
    },
    {
      "cell_type": "code",
      "source": [
        "# Install Tweepy\n",
        "!pip install tweepy"
      ],
      "metadata": {
        "id": "DUBnSN-P_SVi"
      },
      "execution_count": null,
      "outputs": []
    },
    {
      "cell_type": "markdown",
      "source": [
        "**Import the Libraries**"
      ],
      "metadata": {
        "id": "aGEB8hf_RBN4"
      }
    },
    {
      "cell_type": "code",
      "metadata": {
        "id": "m7OkzEt_tVDa",
        "colab": {
          "base_uri": "https://localhost:8080/"
        },
        "outputId": "79fb8dc8-efd6-4a71-ce2f-aba91ec69d59"
      },
      "source": [
        "# Import the required libraries.\n",
        "import os\n",
        "import tweepy as tw\n",
        "import numpy as np\n",
        "from nltk.sentiment.vader import SentimentIntensityAnalyzer\n",
        "import nltk\n",
        "nltk.download('vader_lexicon')\n",
        "import re\n",
        "import pandas as pd\n",
        "from wordcloud import WordCloud\n",
        "import seaborn as sns\n",
        "import matplotlib.pyplot as plt\n"
      ],
      "execution_count": null,
      "outputs": [
        {
          "output_type": "stream",
          "name": "stderr",
          "text": [
            "[nltk_data] Downloading package vader_lexicon to /root/nltk_data...\n"
          ]
        }
      ]
    },
    {
      "cell_type": "markdown",
      "source": [
        "**Get Twitter Data**"
      ],
      "metadata": {
        "id": "TIbSLG9JhCYm"
      }
    },
    {
      "cell_type": "markdown",
      "source": [
        "For this project, we are going to extract data from Twitter using the Tritter API. You are required to set up a Twitter developer account prior to using their API. I will not cover this process here, but you can find out how by going to this link https://python.plainenglish.io/scraping-twitter-data-with-an-api-and-python-445a4de4b18  "
      ],
      "metadata": {
        "id": "4qng0vOwNxM1"
      }
    },
    {
      "cell_type": "markdown",
      "source": [
        "After you have set up your Twitter developer accont and obtained your api keys and access tokens, you will assign them to variables. For clarity, I have assigned variable names that match the type of api key or access token."
      ],
      "metadata": {
        "id": "tnEIKx97PSNE"
      }
    },
    {
      "cell_type": "code",
      "metadata": {
        "id": "SI-eaWvwta8n"
      },
      "source": [
        "# Connecting to your Twitter Developer API's.\n",
        "api_key= 'enter your api key' \n",
        "api_secret= 'enter your api secret key here'\n",
        "access_token= 'enter your access token here'\n",
        "access_token_secret= 'enter your access token secret here'"
      ],
      "execution_count": null,
      "outputs": []
    },
    {
      "cell_type": "markdown",
      "source": [
        "Next we need to authenticate the API keys and Access Tokens."
      ],
      "metadata": {
        "id": "xDa8eEX3PVbl"
      }
    },
    {
      "cell_type": "code",
      "source": [
        "# Authenticate the APIs\n",
        "auth = tw.OAuthHandler(api_key, api_secret)\n",
        "auth.set_access_token(access_token, access_token_secret)\n",
        "api = tw.API(auth, wait_on_rate_limit=True)"
      ],
      "metadata": {
        "id": "oy-s0SK4mfmv"
      },
      "execution_count": null,
      "outputs": []
    },
    {
      "cell_type": "markdown",
      "source": [
        "We will now create variables for the words we will search for and the start date of the search.  "
      ],
      "metadata": {
        "id": "7hIHSulBPgIJ"
      }
    },
    {
      "cell_type": "code",
      "source": [
        "# Define variables for search words and the start date. \n",
        "search_words = \"democracy\"\n",
        "date_since = \"2021-01-01\""
      ],
      "metadata": {
        "id": "zbvNKy8wmhS4"
      },
      "execution_count": null,
      "outputs": []
    },
    {
      "cell_type": "markdown",
      "source": [
        "Collect the tweets using the search words and start date."
      ],
      "metadata": {
        "id": "BN_2M53EPqBP"
      }
    },
    {
      "cell_type": "code",
      "source": [
        "# Collect the tweets.\n",
        "tweets = tw.Cursor(api.search,\n",
        "              q = search_words,\n",
        "              lang = \"en\",\n",
        "              since = date_since).items(5000)"
      ],
      "metadata": {
        "id": "-Lqt6NQ-mwpu"
      },
      "execution_count": null,
      "outputs": []
    },
    {
      "cell_type": "markdown",
      "source": [
        "Define a function to get Twitter users, tweet times, and tweet text for tweets that match the search criteria and create a new data frame."
      ],
      "metadata": {
        "id": "FWY0kPQ4PyRZ"
      }
    },
    {
      "cell_type": "code",
      "source": [
        "# Define a function to get the related tweets.\n",
        "def get_related_tweets(key_word):\n",
        "    twitter_users = []\n",
        "    tweet_time = []\n",
        "    tweet_string = [] \n",
        "    for tweet in tw.Cursor(api.search,q=key_word, count=5000).items(5000):\n",
        "             if (not tweet.retweeted) and ('RT @' not in tweet.text):\n",
        "                if tweet.lang == \"en\":\n",
        "                    twitter_users.append(tweet.user.name)\n",
        "                    tweet_time.append(tweet.created_at)\n",
        "                    tweet_string.append(tweet.text)\n",
        "                    \n",
        "    df = pd.DataFrame({'name':twitter_users, 'time': tweet_time, 'tweet': tweet_string})\n",
        "    df.to_csv(f\"{key_word}.csv\")\n",
        "    return df"
      ],
      "metadata": {
        "id": "rEh0GnjZnCP9"
      },
      "execution_count": null,
      "outputs": []
    },
    {
      "cell_type": "markdown",
      "source": [
        "Call the function to get tweets that contain text containing the word democracy with a start date equal to or greater than 01/01/2022 and display a few of the tweets."
      ],
      "metadata": {
        "id": "LO5fogUjP6X1"
      }
    },
    {
      "cell_type": "code",
      "source": [
        "# Get tweets related to domocracy and create a new dataframe.\n",
        "df = get_related_tweets(\"democracy\")\n",
        "df.head(5)"
      ],
      "metadata": {
        "colab": {
          "base_uri": "https://localhost:8080/",
          "height": 206
        },
        "id": "Vo3GIfoknJv6",
        "outputId": "2b1cf9b0-ed16-482c-f24f-9f807fc9f98a"
      },
      "execution_count": null,
      "outputs": [
        {
          "output_type": "execute_result",
          "data": {
            "text/plain": [
              "                         name                time  \\\n",
              "0              Michael Bruner 2022-10-10 21:14:58   \n",
              "1  🇺🇦🇺🇸Defeat Trumpism (士雅) 😷 2022-10-10 21:14:55   \n",
              "2       Yusful Obong Obidient 2022-10-10 21:14:54   \n",
              "3                 claudjarae🌵 2022-10-10 21:14:49   \n",
              "4                  Kevin Sabo 2022-10-10 21:14:48   \n",
              "\n",
              "                                               tweet  \n",
              "0  @tomselliott @NicolleDWallace Maybe instead of...  \n",
              "1  @GOPLeader Coward Kev will defend racists, ant...  \n",
              "2  @Pinktourmline @BashirAhmaad Obi's ruthlessnes...  \n",
              "3  Incredibly important for @katiehobbs for Gover...  \n",
              "4  Anti-Black racism in Los Angeles politics is a...  "
            ],
            "text/html": [
              "\n",
              "  <div id=\"df-8ca4ddbb-ae1e-485f-9c41-dc344a414e51\">\n",
              "    <div class=\"colab-df-container\">\n",
              "      <div>\n",
              "<style scoped>\n",
              "    .dataframe tbody tr th:only-of-type {\n",
              "        vertical-align: middle;\n",
              "    }\n",
              "\n",
              "    .dataframe tbody tr th {\n",
              "        vertical-align: top;\n",
              "    }\n",
              "\n",
              "    .dataframe thead th {\n",
              "        text-align: right;\n",
              "    }\n",
              "</style>\n",
              "<table border=\"1\" class=\"dataframe\">\n",
              "  <thead>\n",
              "    <tr style=\"text-align: right;\">\n",
              "      <th></th>\n",
              "      <th>name</th>\n",
              "      <th>time</th>\n",
              "      <th>tweet</th>\n",
              "    </tr>\n",
              "  </thead>\n",
              "  <tbody>\n",
              "    <tr>\n",
              "      <th>0</th>\n",
              "      <td>Michael Bruner</td>\n",
              "      <td>2022-10-10 21:14:58</td>\n",
              "      <td>@tomselliott @NicolleDWallace Maybe instead of...</td>\n",
              "    </tr>\n",
              "    <tr>\n",
              "      <th>1</th>\n",
              "      <td>🇺🇦🇺🇸Defeat Trumpism (士雅) 😷</td>\n",
              "      <td>2022-10-10 21:14:55</td>\n",
              "      <td>@GOPLeader Coward Kev will defend racists, ant...</td>\n",
              "    </tr>\n",
              "    <tr>\n",
              "      <th>2</th>\n",
              "      <td>Yusful Obong Obidient</td>\n",
              "      <td>2022-10-10 21:14:54</td>\n",
              "      <td>@Pinktourmline @BashirAhmaad Obi's ruthlessnes...</td>\n",
              "    </tr>\n",
              "    <tr>\n",
              "      <th>3</th>\n",
              "      <td>claudjarae🌵</td>\n",
              "      <td>2022-10-10 21:14:49</td>\n",
              "      <td>Incredibly important for @katiehobbs for Gover...</td>\n",
              "    </tr>\n",
              "    <tr>\n",
              "      <th>4</th>\n",
              "      <td>Kevin Sabo</td>\n",
              "      <td>2022-10-10 21:14:48</td>\n",
              "      <td>Anti-Black racism in Los Angeles politics is a...</td>\n",
              "    </tr>\n",
              "  </tbody>\n",
              "</table>\n",
              "</div>\n",
              "      <button class=\"colab-df-convert\" onclick=\"convertToInteractive('df-8ca4ddbb-ae1e-485f-9c41-dc344a414e51')\"\n",
              "              title=\"Convert this dataframe to an interactive table.\"\n",
              "              style=\"display:none;\">\n",
              "        \n",
              "  <svg xmlns=\"http://www.w3.org/2000/svg\" height=\"24px\"viewBox=\"0 0 24 24\"\n",
              "       width=\"24px\">\n",
              "    <path d=\"M0 0h24v24H0V0z\" fill=\"none\"/>\n",
              "    <path d=\"M18.56 5.44l.94 2.06.94-2.06 2.06-.94-2.06-.94-.94-2.06-.94 2.06-2.06.94zm-11 1L8.5 8.5l.94-2.06 2.06-.94-2.06-.94L8.5 2.5l-.94 2.06-2.06.94zm10 10l.94 2.06.94-2.06 2.06-.94-2.06-.94-.94-2.06-.94 2.06-2.06.94z\"/><path d=\"M17.41 7.96l-1.37-1.37c-.4-.4-.92-.59-1.43-.59-.52 0-1.04.2-1.43.59L10.3 9.45l-7.72 7.72c-.78.78-.78 2.05 0 2.83L4 21.41c.39.39.9.59 1.41.59.51 0 1.02-.2 1.41-.59l7.78-7.78 2.81-2.81c.8-.78.8-2.07 0-2.86zM5.41 20L4 18.59l7.72-7.72 1.47 1.35L5.41 20z\"/>\n",
              "  </svg>\n",
              "      </button>\n",
              "      \n",
              "  <style>\n",
              "    .colab-df-container {\n",
              "      display:flex;\n",
              "      flex-wrap:wrap;\n",
              "      gap: 12px;\n",
              "    }\n",
              "\n",
              "    .colab-df-convert {\n",
              "      background-color: #E8F0FE;\n",
              "      border: none;\n",
              "      border-radius: 50%;\n",
              "      cursor: pointer;\n",
              "      display: none;\n",
              "      fill: #1967D2;\n",
              "      height: 32px;\n",
              "      padding: 0 0 0 0;\n",
              "      width: 32px;\n",
              "    }\n",
              "\n",
              "    .colab-df-convert:hover {\n",
              "      background-color: #E2EBFA;\n",
              "      box-shadow: 0px 1px 2px rgba(60, 64, 67, 0.3), 0px 1px 3px 1px rgba(60, 64, 67, 0.15);\n",
              "      fill: #174EA6;\n",
              "    }\n",
              "\n",
              "    [theme=dark] .colab-df-convert {\n",
              "      background-color: #3B4455;\n",
              "      fill: #D2E3FC;\n",
              "    }\n",
              "\n",
              "    [theme=dark] .colab-df-convert:hover {\n",
              "      background-color: #434B5C;\n",
              "      box-shadow: 0px 1px 3px 1px rgba(0, 0, 0, 0.15);\n",
              "      filter: drop-shadow(0px 1px 2px rgba(0, 0, 0, 0.3));\n",
              "      fill: #FFFFFF;\n",
              "    }\n",
              "  </style>\n",
              "\n",
              "      <script>\n",
              "        const buttonEl =\n",
              "          document.querySelector('#df-8ca4ddbb-ae1e-485f-9c41-dc344a414e51 button.colab-df-convert');\n",
              "        buttonEl.style.display =\n",
              "          google.colab.kernel.accessAllowed ? 'block' : 'none';\n",
              "\n",
              "        async function convertToInteractive(key) {\n",
              "          const element = document.querySelector('#df-8ca4ddbb-ae1e-485f-9c41-dc344a414e51');\n",
              "          const dataTable =\n",
              "            await google.colab.kernel.invokeFunction('convertToInteractive',\n",
              "                                                     [key], {});\n",
              "          if (!dataTable) return;\n",
              "\n",
              "          const docLinkHtml = 'Like what you see? Visit the ' +\n",
              "            '<a target=\"_blank\" href=https://colab.research.google.com/notebooks/data_table.ipynb>data table notebook</a>'\n",
              "            + ' to learn more about interactive tables.';\n",
              "          element.innerHTML = '';\n",
              "          dataTable['output_type'] = 'display_data';\n",
              "          await google.colab.output.renderOutput(dataTable, element);\n",
              "          const docLink = document.createElement('div');\n",
              "          docLink.innerHTML = docLinkHtml;\n",
              "          element.appendChild(docLink);\n",
              "        }\n",
              "      </script>\n",
              "    </div>\n",
              "  </div>\n",
              "  "
            ]
          },
          "metadata": {},
          "execution_count": 8
        }
      ]
    },
    {
      "cell_type": "markdown",
      "source": [
        "There are 1,140 tweets in the dataframe."
      ],
      "metadata": {
        "id": "ooPshc9Zyxj8"
      }
    },
    {
      "cell_type": "markdown",
      "source": [
        "**Data Cleaning**"
      ],
      "metadata": {
        "id": "pB6ZOEITRLVB"
      }
    },
    {
      "cell_type": "markdown",
      "source": [
        "The text within tweets contain many slang words and punctuation marks. We need to pre-process and clean the text in the tweets before they can be used for sentiment analysis. Text preprocessing is one of the most important tasks in Natural Language Processing (NLP). For example, you may want to remove all punctuation marks within the text before they can be used for text classification."
      ],
      "metadata": {
        "id": "o4VZQ4gvRwXy"
      }
    },
    {
      "cell_type": "markdown",
      "source": [
        "We will now create a variable that contains only the text from the tweets."
      ],
      "metadata": {
        "id": "VzFp7UKiIetk"
      }
    },
    {
      "cell_type": "code",
      "source": [
        "# Create variable containing tweets.  \n",
        "tweets = df.iloc[:, 2].values"
      ],
      "metadata": {
        "id": "EKof6gvGInJW"
      },
      "execution_count": null,
      "outputs": []
    },
    {
      "cell_type": "markdown",
      "source": [
        "We will use Regular Expressions (Regex) to perform the text pre-processing tasks. A Regular Expression is a text string that describes a search pattern which can be used to match or replace patterns inside a string with a minimal amount of code. Python’s re package will be used to implement regular expressions. To learn more about regular expressions, click this link https://stackabuse.com/using-regex-for-text-manipulation-in-python/"
      ],
      "metadata": {
        "id": "vh14KxkaSpuP"
      }
    },
    {
      "cell_type": "code",
      "source": [
        "# Clean the text data by preprocessing it with Regex. \n",
        "processed_tweets = []\n",
        "\n",
        "for sentence in range(0, len(tweets)):\n",
        "    # Remove all the special characters.\n",
        "    processed_tweet = re.sub(r'\\W', ' ', str(tweets[sentence]))\n",
        "\n",
        "    # Remove all single characters as a result of removing the special characters.\n",
        "    processed_tweet= re.sub(r'\\s+[a-zA-Z]\\s+', ' ', processed_tweet)\n",
        "\n",
        "    # Remove single characters from the start.\n",
        "    processed_tweet = re.sub(r'\\^[a-zA-Z]\\s+', ' ', processed_tweet) \n",
        "\n",
        "    # Replace multiple spaces with a single space.\n",
        "    processed_tweet = re.sub(r'\\s+', ' ', processed_tweet, flags=re.I)\n",
        "\n",
        "    # Remove links from text.\n",
        "    processed_tweet = re.sub(r'http\\S+', '', processed_tweet)\n",
        "\n",
        "    # Remove prefixed 'b'.\n",
        "    processed_tweet = re.sub(r'^b\\s+', '', processed_tweet)\n",
        "\n",
        "    processed_tweets.append(processed_tweet)"
      ],
      "metadata": {
        "id": "kFrDnotbyHqu"
      },
      "execution_count": null,
      "outputs": []
    },
    {
      "cell_type": "code",
      "source": [
        "# Create a new data frame for the processed tweets. \n",
        "clean_tweets = pd.DataFrame({'tweet': processed_tweets})\n",
        "clean_tweets.head(5)"
      ],
      "metadata": {
        "colab": {
          "base_uri": "https://localhost:8080/",
          "height": 206
        },
        "id": "-pRjdSZCFruT",
        "outputId": "b628d32f-df74-4d4b-e3a6-c6586e378d59"
      },
      "execution_count": null,
      "outputs": [
        {
          "output_type": "execute_result",
          "data": {
            "text/plain": [
              "                                               tweet\n",
              "0   tomselliott NicolleDWallace Maybe instead of ...\n",
              "1   GOPLeader Coward Kev will defend racists anti...\n",
              "2   Pinktourmline BashirAhmaad Obi ruthlessness a...\n",
              "3  Incredibly important for katiehobbs for Govern...\n",
              "4  Anti Black racism in Los Angeles politics is a..."
            ],
            "text/html": [
              "\n",
              "  <div id=\"df-a7725e80-5323-4c3b-9fed-5c1b32c65a2c\">\n",
              "    <div class=\"colab-df-container\">\n",
              "      <div>\n",
              "<style scoped>\n",
              "    .dataframe tbody tr th:only-of-type {\n",
              "        vertical-align: middle;\n",
              "    }\n",
              "\n",
              "    .dataframe tbody tr th {\n",
              "        vertical-align: top;\n",
              "    }\n",
              "\n",
              "    .dataframe thead th {\n",
              "        text-align: right;\n",
              "    }\n",
              "</style>\n",
              "<table border=\"1\" class=\"dataframe\">\n",
              "  <thead>\n",
              "    <tr style=\"text-align: right;\">\n",
              "      <th></th>\n",
              "      <th>tweet</th>\n",
              "    </tr>\n",
              "  </thead>\n",
              "  <tbody>\n",
              "    <tr>\n",
              "      <th>0</th>\n",
              "      <td>tomselliott NicolleDWallace Maybe instead of ...</td>\n",
              "    </tr>\n",
              "    <tr>\n",
              "      <th>1</th>\n",
              "      <td>GOPLeader Coward Kev will defend racists anti...</td>\n",
              "    </tr>\n",
              "    <tr>\n",
              "      <th>2</th>\n",
              "      <td>Pinktourmline BashirAhmaad Obi ruthlessness a...</td>\n",
              "    </tr>\n",
              "    <tr>\n",
              "      <th>3</th>\n",
              "      <td>Incredibly important for katiehobbs for Govern...</td>\n",
              "    </tr>\n",
              "    <tr>\n",
              "      <th>4</th>\n",
              "      <td>Anti Black racism in Los Angeles politics is a...</td>\n",
              "    </tr>\n",
              "  </tbody>\n",
              "</table>\n",
              "</div>\n",
              "      <button class=\"colab-df-convert\" onclick=\"convertToInteractive('df-a7725e80-5323-4c3b-9fed-5c1b32c65a2c')\"\n",
              "              title=\"Convert this dataframe to an interactive table.\"\n",
              "              style=\"display:none;\">\n",
              "        \n",
              "  <svg xmlns=\"http://www.w3.org/2000/svg\" height=\"24px\"viewBox=\"0 0 24 24\"\n",
              "       width=\"24px\">\n",
              "    <path d=\"M0 0h24v24H0V0z\" fill=\"none\"/>\n",
              "    <path d=\"M18.56 5.44l.94 2.06.94-2.06 2.06-.94-2.06-.94-.94-2.06-.94 2.06-2.06.94zm-11 1L8.5 8.5l.94-2.06 2.06-.94-2.06-.94L8.5 2.5l-.94 2.06-2.06.94zm10 10l.94 2.06.94-2.06 2.06-.94-2.06-.94-.94-2.06-.94 2.06-2.06.94z\"/><path d=\"M17.41 7.96l-1.37-1.37c-.4-.4-.92-.59-1.43-.59-.52 0-1.04.2-1.43.59L10.3 9.45l-7.72 7.72c-.78.78-.78 2.05 0 2.83L4 21.41c.39.39.9.59 1.41.59.51 0 1.02-.2 1.41-.59l7.78-7.78 2.81-2.81c.8-.78.8-2.07 0-2.86zM5.41 20L4 18.59l7.72-7.72 1.47 1.35L5.41 20z\"/>\n",
              "  </svg>\n",
              "      </button>\n",
              "      \n",
              "  <style>\n",
              "    .colab-df-container {\n",
              "      display:flex;\n",
              "      flex-wrap:wrap;\n",
              "      gap: 12px;\n",
              "    }\n",
              "\n",
              "    .colab-df-convert {\n",
              "      background-color: #E8F0FE;\n",
              "      border: none;\n",
              "      border-radius: 50%;\n",
              "      cursor: pointer;\n",
              "      display: none;\n",
              "      fill: #1967D2;\n",
              "      height: 32px;\n",
              "      padding: 0 0 0 0;\n",
              "      width: 32px;\n",
              "    }\n",
              "\n",
              "    .colab-df-convert:hover {\n",
              "      background-color: #E2EBFA;\n",
              "      box-shadow: 0px 1px 2px rgba(60, 64, 67, 0.3), 0px 1px 3px 1px rgba(60, 64, 67, 0.15);\n",
              "      fill: #174EA6;\n",
              "    }\n",
              "\n",
              "    [theme=dark] .colab-df-convert {\n",
              "      background-color: #3B4455;\n",
              "      fill: #D2E3FC;\n",
              "    }\n",
              "\n",
              "    [theme=dark] .colab-df-convert:hover {\n",
              "      background-color: #434B5C;\n",
              "      box-shadow: 0px 1px 3px 1px rgba(0, 0, 0, 0.15);\n",
              "      filter: drop-shadow(0px 1px 2px rgba(0, 0, 0, 0.3));\n",
              "      fill: #FFFFFF;\n",
              "    }\n",
              "  </style>\n",
              "\n",
              "      <script>\n",
              "        const buttonEl =\n",
              "          document.querySelector('#df-a7725e80-5323-4c3b-9fed-5c1b32c65a2c button.colab-df-convert');\n",
              "        buttonEl.style.display =\n",
              "          google.colab.kernel.accessAllowed ? 'block' : 'none';\n",
              "\n",
              "        async function convertToInteractive(key) {\n",
              "          const element = document.querySelector('#df-a7725e80-5323-4c3b-9fed-5c1b32c65a2c');\n",
              "          const dataTable =\n",
              "            await google.colab.kernel.invokeFunction('convertToInteractive',\n",
              "                                                     [key], {});\n",
              "          if (!dataTable) return;\n",
              "\n",
              "          const docLinkHtml = 'Like what you see? Visit the ' +\n",
              "            '<a target=\"_blank\" href=https://colab.research.google.com/notebooks/data_table.ipynb>data table notebook</a>'\n",
              "            + ' to learn more about interactive tables.';\n",
              "          element.innerHTML = '';\n",
              "          dataTable['output_type'] = 'display_data';\n",
              "          await google.colab.output.renderOutput(dataTable, element);\n",
              "          const docLink = document.createElement('div');\n",
              "          docLink.innerHTML = docLinkHtml;\n",
              "          element.appendChild(docLink);\n",
              "        }\n",
              "      </script>\n",
              "    </div>\n",
              "  </div>\n",
              "  "
            ]
          },
          "metadata": {},
          "execution_count": 11
        }
      ]
    },
    {
      "cell_type": "markdown",
      "source": [
        "**Apply Sentiment Analysis**"
      ],
      "metadata": {
        "id": "mcsryyOM4bmF"
      }
    },
    {
      "cell_type": "markdown",
      "source": [
        "Sentiment analysis is a text analysis method that detects polarity (positive or negative opinion) within text. We will use the NLTK (Natural Language Toolkit)  submodule VADER for doing sentiment analysis on the text. \n",
        "\n",
        "VADER ( Valence Aware Dictionary for Sentiment Reasoning) is a module used for text sentiment analysis that is sensitive to both polarity (positive/negative) and intensity (strength) of emotion. It is applied directly to unlabeled text data and is specifically designed for sentiments expressed in social media."
      ],
      "metadata": {
        "id": "fWAL9mBRSB4B"
      }
    },
    {
      "cell_type": "markdown",
      "source": [
        "VADER’s SentimentIntensityAnalyzer() takes in a string and returns a dictionary of scores in each of the following categories:\n",
        "* negative\n",
        "* neutral\n",
        "* positive\n",
        "* compound (the sum of positive, negative & neutral scores which is then normalized between -1(strongly negative) and +1 (strongly positive).\n",
        "\n",
        "For example, the following text would return these output  scores:                       \n",
        "'This was the best, most awesome movie EVER MADE!!!'                       \n",
        "OUTPUT-{'neg': 0.0, 'neu': 0.425, 'pos': 0.575, 'compound': 0.8877}\n",
        "\n",
        "The scores range between -1 to 1, with -1 being strongly negative and +1 being strongly positive. We will use the compound score to determine if tweets related to democracy are positive or negative. "
      ],
      "metadata": {
        "id": "RpsGZgRkb0Zl"
      }
    },
    {
      "cell_type": "markdown",
      "source": [
        "We will now initialize the Sentiment Intensity Analyzer and create a lambda function that takes in a text string, applies the vader.polarity_scores() function on it to get the results and then return back the compound scores. Using the apply function in Pandas, we can create a new compound column in the data frame with all the compound scores for each tweet."
      ],
      "metadata": {
        "id": "lrHFVhSNfC-n"
      }
    },
    {
      "cell_type": "code",
      "source": [
        "# Initialize the SentimentIntensityAnalyzer.\n",
        "vader = SentimentIntensityAnalyzer()\n",
        "\n",
        "# Apply lambda function to get compound scores.\n",
        "function = lambda title: vader.polarity_scores(title)['compound']\n",
        "clean_tweets['compound'] = clean_tweets['tweet'].apply(function)"
      ],
      "metadata": {
        "id": "jFQIU8dh3chf"
      },
      "execution_count": null,
      "outputs": []
    },
    {
      "cell_type": "code",
      "source": [
        "clean_tweets  "
      ],
      "metadata": {
        "colab": {
          "base_uri": "https://localhost:8080/",
          "height": 423
        },
        "id": "l0eTbkX44DLR",
        "outputId": "41141061-1e2b-4116-b50e-88f8f1822d08"
      },
      "execution_count": null,
      "outputs": [
        {
          "output_type": "execute_result",
          "data": {
            "text/plain": [
              "                                                  tweet  compound\n",
              "0      tomselliott NicolleDWallace Maybe instead of ...    0.0000\n",
              "1      GOPLeader Coward Kev will defend racists anti...   -0.7906\n",
              "2      Pinktourmline BashirAhmaad Obi ruthlessness a...   -0.3612\n",
              "3     Incredibly important for katiehobbs for Govern...   -0.4098\n",
              "4     Anti Black racism in Los Angeles politics is a...   -0.8402\n",
              "...                                                 ...       ...\n",
              "1135  If we want Democracy to flour sh we ll have to...    0.0772\n",
              "1136  FACE Partners with Faiths United to Save Democ...    0.9042\n",
              "1137   DavidNC__AV Doesn seem true He did not influe...    0.4215\n",
              "1138   AmbQinGang Hi dictator lover Why wont you sup...    0.1295\n",
              "1139   RepStefanik am proud to stand up against the ...    0.2263\n",
              "\n",
              "[1140 rows x 2 columns]"
            ],
            "text/html": [
              "\n",
              "  <div id=\"df-97eb489c-3927-408c-b7f3-7040853a358c\">\n",
              "    <div class=\"colab-df-container\">\n",
              "      <div>\n",
              "<style scoped>\n",
              "    .dataframe tbody tr th:only-of-type {\n",
              "        vertical-align: middle;\n",
              "    }\n",
              "\n",
              "    .dataframe tbody tr th {\n",
              "        vertical-align: top;\n",
              "    }\n",
              "\n",
              "    .dataframe thead th {\n",
              "        text-align: right;\n",
              "    }\n",
              "</style>\n",
              "<table border=\"1\" class=\"dataframe\">\n",
              "  <thead>\n",
              "    <tr style=\"text-align: right;\">\n",
              "      <th></th>\n",
              "      <th>tweet</th>\n",
              "      <th>compound</th>\n",
              "    </tr>\n",
              "  </thead>\n",
              "  <tbody>\n",
              "    <tr>\n",
              "      <th>0</th>\n",
              "      <td>tomselliott NicolleDWallace Maybe instead of ...</td>\n",
              "      <td>0.0000</td>\n",
              "    </tr>\n",
              "    <tr>\n",
              "      <th>1</th>\n",
              "      <td>GOPLeader Coward Kev will defend racists anti...</td>\n",
              "      <td>-0.7906</td>\n",
              "    </tr>\n",
              "    <tr>\n",
              "      <th>2</th>\n",
              "      <td>Pinktourmline BashirAhmaad Obi ruthlessness a...</td>\n",
              "      <td>-0.3612</td>\n",
              "    </tr>\n",
              "    <tr>\n",
              "      <th>3</th>\n",
              "      <td>Incredibly important for katiehobbs for Govern...</td>\n",
              "      <td>-0.4098</td>\n",
              "    </tr>\n",
              "    <tr>\n",
              "      <th>4</th>\n",
              "      <td>Anti Black racism in Los Angeles politics is a...</td>\n",
              "      <td>-0.8402</td>\n",
              "    </tr>\n",
              "    <tr>\n",
              "      <th>...</th>\n",
              "      <td>...</td>\n",
              "      <td>...</td>\n",
              "    </tr>\n",
              "    <tr>\n",
              "      <th>1135</th>\n",
              "      <td>If we want Democracy to flour sh we ll have to...</td>\n",
              "      <td>0.0772</td>\n",
              "    </tr>\n",
              "    <tr>\n",
              "      <th>1136</th>\n",
              "      <td>FACE Partners with Faiths United to Save Democ...</td>\n",
              "      <td>0.9042</td>\n",
              "    </tr>\n",
              "    <tr>\n",
              "      <th>1137</th>\n",
              "      <td>DavidNC__AV Doesn seem true He did not influe...</td>\n",
              "      <td>0.4215</td>\n",
              "    </tr>\n",
              "    <tr>\n",
              "      <th>1138</th>\n",
              "      <td>AmbQinGang Hi dictator lover Why wont you sup...</td>\n",
              "      <td>0.1295</td>\n",
              "    </tr>\n",
              "    <tr>\n",
              "      <th>1139</th>\n",
              "      <td>RepStefanik am proud to stand up against the ...</td>\n",
              "      <td>0.2263</td>\n",
              "    </tr>\n",
              "  </tbody>\n",
              "</table>\n",
              "<p>1140 rows × 2 columns</p>\n",
              "</div>\n",
              "      <button class=\"colab-df-convert\" onclick=\"convertToInteractive('df-97eb489c-3927-408c-b7f3-7040853a358c')\"\n",
              "              title=\"Convert this dataframe to an interactive table.\"\n",
              "              style=\"display:none;\">\n",
              "        \n",
              "  <svg xmlns=\"http://www.w3.org/2000/svg\" height=\"24px\"viewBox=\"0 0 24 24\"\n",
              "       width=\"24px\">\n",
              "    <path d=\"M0 0h24v24H0V0z\" fill=\"none\"/>\n",
              "    <path d=\"M18.56 5.44l.94 2.06.94-2.06 2.06-.94-2.06-.94-.94-2.06-.94 2.06-2.06.94zm-11 1L8.5 8.5l.94-2.06 2.06-.94-2.06-.94L8.5 2.5l-.94 2.06-2.06.94zm10 10l.94 2.06.94-2.06 2.06-.94-2.06-.94-.94-2.06-.94 2.06-2.06.94z\"/><path d=\"M17.41 7.96l-1.37-1.37c-.4-.4-.92-.59-1.43-.59-.52 0-1.04.2-1.43.59L10.3 9.45l-7.72 7.72c-.78.78-.78 2.05 0 2.83L4 21.41c.39.39.9.59 1.41.59.51 0 1.02-.2 1.41-.59l7.78-7.78 2.81-2.81c.8-.78.8-2.07 0-2.86zM5.41 20L4 18.59l7.72-7.72 1.47 1.35L5.41 20z\"/>\n",
              "  </svg>\n",
              "      </button>\n",
              "      \n",
              "  <style>\n",
              "    .colab-df-container {\n",
              "      display:flex;\n",
              "      flex-wrap:wrap;\n",
              "      gap: 12px;\n",
              "    }\n",
              "\n",
              "    .colab-df-convert {\n",
              "      background-color: #E8F0FE;\n",
              "      border: none;\n",
              "      border-radius: 50%;\n",
              "      cursor: pointer;\n",
              "      display: none;\n",
              "      fill: #1967D2;\n",
              "      height: 32px;\n",
              "      padding: 0 0 0 0;\n",
              "      width: 32px;\n",
              "    }\n",
              "\n",
              "    .colab-df-convert:hover {\n",
              "      background-color: #E2EBFA;\n",
              "      box-shadow: 0px 1px 2px rgba(60, 64, 67, 0.3), 0px 1px 3px 1px rgba(60, 64, 67, 0.15);\n",
              "      fill: #174EA6;\n",
              "    }\n",
              "\n",
              "    [theme=dark] .colab-df-convert {\n",
              "      background-color: #3B4455;\n",
              "      fill: #D2E3FC;\n",
              "    }\n",
              "\n",
              "    [theme=dark] .colab-df-convert:hover {\n",
              "      background-color: #434B5C;\n",
              "      box-shadow: 0px 1px 3px 1px rgba(0, 0, 0, 0.15);\n",
              "      filter: drop-shadow(0px 1px 2px rgba(0, 0, 0, 0.3));\n",
              "      fill: #FFFFFF;\n",
              "    }\n",
              "  </style>\n",
              "\n",
              "      <script>\n",
              "        const buttonEl =\n",
              "          document.querySelector('#df-97eb489c-3927-408c-b7f3-7040853a358c button.colab-df-convert');\n",
              "        buttonEl.style.display =\n",
              "          google.colab.kernel.accessAllowed ? 'block' : 'none';\n",
              "\n",
              "        async function convertToInteractive(key) {\n",
              "          const element = document.querySelector('#df-97eb489c-3927-408c-b7f3-7040853a358c');\n",
              "          const dataTable =\n",
              "            await google.colab.kernel.invokeFunction('convertToInteractive',\n",
              "                                                     [key], {});\n",
              "          if (!dataTable) return;\n",
              "\n",
              "          const docLinkHtml = 'Like what you see? Visit the ' +\n",
              "            '<a target=\"_blank\" href=https://colab.research.google.com/notebooks/data_table.ipynb>data table notebook</a>'\n",
              "            + ' to learn more about interactive tables.';\n",
              "          element.innerHTML = '';\n",
              "          dataTable['output_type'] = 'display_data';\n",
              "          await google.colab.output.renderOutput(dataTable, element);\n",
              "          const docLink = document.createElement('div');\n",
              "          docLink.innerHTML = docLinkHtml;\n",
              "          element.appendChild(docLink);\n",
              "        }\n",
              "      </script>\n",
              "    </div>\n",
              "  </div>\n",
              "  "
            ]
          },
          "metadata": {},
          "execution_count": 13
        }
      ]
    },
    {
      "cell_type": "markdown",
      "source": [
        "**Visualize Sentiments**"
      ],
      "metadata": {
        "id": "I-NHT5I3QwDn"
      }
    },
    {
      "cell_type": "markdown",
      "source": [
        "Let’s see how the sentiments are distributed. We can better understand the common words by plotting word clouds. A word cloud (also known as text clouds) is a visualization where the more a specific word appears in the text, the bigger and bolder it will appear in the word cloud.\n",
        "\n",
        "Let’s visualize all the words in the data using the word cloud plot.  "
      ],
      "metadata": {
        "id": "RQcrVRbtXQOG"
      }
    },
    {
      "cell_type": "code",
      "source": [
        "# Word cloud visualization.\n",
        "allWords = ' '.join([twts for twts in clean_tweets['tweet']])\n",
        "wordCloud = WordCloud(width=500, height=300, random_state=21, max_font_size=110).generate(allWords)\n",
        "\n",
        "plt.imshow(wordCloud, interpolation=\"bilinear\")\n",
        "plt.axis('off')\n",
        "plt.show()"
      ],
      "metadata": {
        "colab": {
          "base_uri": "https://localhost:8080/",
          "height": 232
        },
        "id": "3HA2CgMGXQwP",
        "outputId": "04388e0e-f036-45e0-9f18-e8e61bf231e5"
      },
      "execution_count": null,
      "outputs": [
        {
          "output_type": "display_data",
          "data": {
            "text/plain": [
              "<Figure size 432x288 with 1 Axes>"
            ],
            "image/png": "[encoded data removed]"
          },
          "metadata": {
            "needs_background": "light"
          }
        }
      ]
    },
    {
      "cell_type": "markdown",
      "source": [
        "Democracy, will, GOP and vote are common words that stand out."
      ],
      "metadata": {
        "id": "s5n9SkA9Xg_a"
      }
    },
    {
      "cell_type": "markdown",
      "source": [
        "Create a function to compute the negative (-1), neutral (0), and positive (+1) sentiments, and add a new column called sentiment to our data frame."
      ],
      "metadata": {
        "id": "28qfaWLwXRS7"
      }
    },
    {
      "cell_type": "code",
      "source": [
        "# Create a function to compute negative (-1), neutral (0) and positive (+1) sentiments.\n",
        "def getAnalysis(score):\n",
        " if score < 0:\n",
        "    return 'Negative'\n",
        " elif score == 0:\n",
        "    return 'Neutral'\n",
        " else:\n",
        "    return 'Positive'\n",
        "\n",
        "clean_tweets['sentiment'] = clean_tweets['compound'].apply(getAnalysis)\n",
        "\n",
        "# Show the dataframe\n",
        "clean_tweets"
      ],
      "metadata": {
        "colab": {
          "base_uri": "https://localhost:8080/",
          "height": 423
        },
        "id": "MTq5QIsem3ZY",
        "outputId": "26ddcbbd-dbd0-410d-80a0-5b0f5067d07b"
      },
      "execution_count": null,
      "outputs": [
        {
          "output_type": "execute_result",
          "data": {
            "text/plain": [
              "                                                  tweet  compound sentiment\n",
              "0      tomselliott NicolleDWallace Maybe instead of ...    0.0000   Neutral\n",
              "1      GOPLeader Coward Kev will defend racists anti...   -0.7906  Negative\n",
              "2      Pinktourmline BashirAhmaad Obi ruthlessness a...   -0.3612  Negative\n",
              "3     Incredibly important for katiehobbs for Govern...   -0.4098  Negative\n",
              "4     Anti Black racism in Los Angeles politics is a...   -0.8402  Negative\n",
              "...                                                 ...       ...       ...\n",
              "1135  If we want Democracy to flour sh we ll have to...    0.0772  Positive\n",
              "1136  FACE Partners with Faiths United to Save Democ...    0.9042  Positive\n",
              "1137   DavidNC__AV Doesn seem true He did not influe...    0.4215  Positive\n",
              "1138   AmbQinGang Hi dictator lover Why wont you sup...    0.1295  Positive\n",
              "1139   RepStefanik am proud to stand up against the ...    0.2263  Positive\n",
              "\n",
              "[1140 rows x 3 columns]"
            ],
            "text/html": [
              "\n",
              "  <div id=\"df-0873afb1-40f2-4f2c-a39a-3ba40a40aa7f\">\n",
              "    <div class=\"colab-df-container\">\n",
              "      <div>\n",
              "<style scoped>\n",
              "    .dataframe tbody tr th:only-of-type {\n",
              "        vertical-align: middle;\n",
              "    }\n",
              "\n",
              "    .dataframe tbody tr th {\n",
              "        vertical-align: top;\n",
              "    }\n",
              "\n",
              "    .dataframe thead th {\n",
              "        text-align: right;\n",
              "    }\n",
              "</style>\n",
              "<table border=\"1\" class=\"dataframe\">\n",
              "  <thead>\n",
              "    <tr style=\"text-align: right;\">\n",
              "      <th></th>\n",
              "      <th>tweet</th>\n",
              "      <th>compound</th>\n",
              "      <th>sentiment</th>\n",
              "    </tr>\n",
              "  </thead>\n",
              "  <tbody>\n",
              "    <tr>\n",
              "      <th>0</th>\n",
              "      <td>tomselliott NicolleDWallace Maybe instead of ...</td>\n",
              "      <td>0.0000</td>\n",
              "      <td>Neutral</td>\n",
              "    </tr>\n",
              "    <tr>\n",
              "      <th>1</th>\n",
              "      <td>GOPLeader Coward Kev will defend racists anti...</td>\n",
              "      <td>-0.7906</td>\n",
              "      <td>Negative</td>\n",
              "    </tr>\n",
              "    <tr>\n",
              "      <th>2</th>\n",
              "      <td>Pinktourmline BashirAhmaad Obi ruthlessness a...</td>\n",
              "      <td>-0.3612</td>\n",
              "      <td>Negative</td>\n",
              "    </tr>\n",
              "    <tr>\n",
              "      <th>3</th>\n",
              "      <td>Incredibly important for katiehobbs for Govern...</td>\n",
              "      <td>-0.4098</td>\n",
              "      <td>Negative</td>\n",
              "    </tr>\n",
              "    <tr>\n",
              "      <th>4</th>\n",
              "      <td>Anti Black racism in Los Angeles politics is a...</td>\n",
              "      <td>-0.8402</td>\n",
              "      <td>Negative</td>\n",
              "    </tr>\n",
              "    <tr>\n",
              "      <th>...</th>\n",
              "      <td>...</td>\n",
              "      <td>...</td>\n",
              "      <td>...</td>\n",
              "    </tr>\n",
              "    <tr>\n",
              "      <th>1135</th>\n",
              "      <td>If we want Democracy to flour sh we ll have to...</td>\n",
              "      <td>0.0772</td>\n",
              "      <td>Positive</td>\n",
              "    </tr>\n",
              "    <tr>\n",
              "      <th>1136</th>\n",
              "      <td>FACE Partners with Faiths United to Save Democ...</td>\n",
              "      <td>0.9042</td>\n",
              "      <td>Positive</td>\n",
              "    </tr>\n",
              "    <tr>\n",
              "      <th>1137</th>\n",
              "      <td>DavidNC__AV Doesn seem true He did not influe...</td>\n",
              "      <td>0.4215</td>\n",
              "      <td>Positive</td>\n",
              "    </tr>\n",
              "    <tr>\n",
              "      <th>1138</th>\n",
              "      <td>AmbQinGang Hi dictator lover Why wont you sup...</td>\n",
              "      <td>0.1295</td>\n",
              "      <td>Positive</td>\n",
              "    </tr>\n",
              "    <tr>\n",
              "      <th>1139</th>\n",
              "      <td>RepStefanik am proud to stand up against the ...</td>\n",
              "      <td>0.2263</td>\n",
              "      <td>Positive</td>\n",
              "    </tr>\n",
              "  </tbody>\n",
              "</table>\n",
              "<p>1140 rows × 3 columns</p>\n",
              "</div>\n",
              "      <button class=\"colab-df-convert\" onclick=\"convertToInteractive('df-0873afb1-40f2-4f2c-a39a-3ba40a40aa7f')\"\n",
              "              title=\"Convert this dataframe to an interactive table.\"\n",
              "              style=\"display:none;\">\n",
              "        \n",
              "  <svg xmlns=\"http://www.w3.org/2000/svg\" height=\"24px\"viewBox=\"0 0 24 24\"\n",
              "       width=\"24px\">\n",
              "    <path d=\"M0 0h24v24H0V0z\" fill=\"none\"/>\n",
              "    <path d=\"M18.56 5.44l.94 2.06.94-2.06 2.06-.94-2.06-.94-.94-2.06-.94 2.06-2.06.94zm-11 1L8.5 8.5l.94-2.06 2.06-.94-2.06-.94L8.5 2.5l-.94 2.06-2.06.94zm10 10l.94 2.06.94-2.06 2.06-.94-2.06-.94-.94-2.06-.94 2.06-2.06.94z\"/><path d=\"M17.41 7.96l-1.37-1.37c-.4-.4-.92-.59-1.43-.59-.52 0-1.04.2-1.43.59L10.3 9.45l-7.72 7.72c-.78.78-.78 2.05 0 2.83L4 21.41c.39.39.9.59 1.41.59.51 0 1.02-.2 1.41-.59l7.78-7.78 2.81-2.81c.8-.78.8-2.07 0-2.86zM5.41 20L4 18.59l7.72-7.72 1.47 1.35L5.41 20z\"/>\n",
              "  </svg>\n",
              "      </button>\n",
              "      \n",
              "  <style>\n",
              "    .colab-df-container {\n",
              "      display:flex;\n",
              "      flex-wrap:wrap;\n",
              "      gap: 12px;\n",
              "    }\n",
              "\n",
              "    .colab-df-convert {\n",
              "      background-color: #E8F0FE;\n",
              "      border: none;\n",
              "      border-radius: 50%;\n",
              "      cursor: pointer;\n",
              "      display: none;\n",
              "      fill: #1967D2;\n",
              "      height: 32px;\n",
              "      padding: 0 0 0 0;\n",
              "      width: 32px;\n",
              "    }\n",
              "\n",
              "    .colab-df-convert:hover {\n",
              "      background-color: #E2EBFA;\n",
              "      box-shadow: 0px 1px 2px rgba(60, 64, 67, 0.3), 0px 1px 3px 1px rgba(60, 64, 67, 0.15);\n",
              "      fill: #174EA6;\n",
              "    }\n",
              "\n",
              "    [theme=dark] .colab-df-convert {\n",
              "      background-color: #3B4455;\n",
              "      fill: #D2E3FC;\n",
              "    }\n",
              "\n",
              "    [theme=dark] .colab-df-convert:hover {\n",
              "      background-color: #434B5C;\n",
              "      box-shadow: 0px 1px 3px 1px rgba(0, 0, 0, 0.15);\n",
              "      filter: drop-shadow(0px 1px 2px rgba(0, 0, 0, 0.3));\n",
              "      fill: #FFFFFF;\n",
              "    }\n",
              "  </style>\n",
              "\n",
              "      <script>\n",
              "        const buttonEl =\n",
              "          document.querySelector('#df-0873afb1-40f2-4f2c-a39a-3ba40a40aa7f button.colab-df-convert');\n",
              "        buttonEl.style.display =\n",
              "          google.colab.kernel.accessAllowed ? 'block' : 'none';\n",
              "\n",
              "        async function convertToInteractive(key) {\n",
              "          const element = document.querySelector('#df-0873afb1-40f2-4f2c-a39a-3ba40a40aa7f');\n",
              "          const dataTable =\n",
              "            await google.colab.kernel.invokeFunction('convertToInteractive',\n",
              "                                                     [key], {});\n",
              "          if (!dataTable) return;\n",
              "\n",
              "          const docLinkHtml = 'Like what you see? Visit the ' +\n",
              "            '<a target=\"_blank\" href=https://colab.research.google.com/notebooks/data_table.ipynb>data table notebook</a>'\n",
              "            + ' to learn more about interactive tables.';\n",
              "          element.innerHTML = '';\n",
              "          dataTable['output_type'] = 'display_data';\n",
              "          await google.colab.output.renderOutput(dataTable, element);\n",
              "          const docLink = document.createElement('div');\n",
              "          docLink.innerHTML = docLinkHtml;\n",
              "          element.appendChild(docLink);\n",
              "        }\n",
              "      </script>\n",
              "    </div>\n",
              "  </div>\n",
              "  "
            ]
          },
          "metadata": {},
          "execution_count": 15
        }
      ]
    },
    {
      "cell_type": "markdown",
      "source": [
        "Show the counts for each sentiment type.  "
      ],
      "metadata": {
        "id": "6PfV7AIrqxlA"
      }
    },
    {
      "cell_type": "code",
      "source": [
        "# Show the counts for each sentiment.\n",
        "clean_tweets['sentiment'].value_counts()"
      ],
      "metadata": {
        "colab": {
          "base_uri": "https://localhost:8080/"
        },
        "id": "hRYKRWX6qxz6",
        "outputId": "4df469b0-9ee1-43be-c8c6-eec168d9156f"
      },
      "execution_count": null,
      "outputs": [
        {
          "output_type": "execute_result",
          "data": {
            "text/plain": [
              "Negative    460\n",
              "Positive    414\n",
              "Neutral     266\n",
              "Name: sentiment, dtype: int64"
            ]
          },
          "metadata": {},
          "execution_count": 16
        }
      ]
    },
    {
      "cell_type": "markdown",
      "source": [
        "There are a total of 1,140 tweets. We see that 460 tweets are negative, 414  are negative and 266 are neutral."
      ],
      "metadata": {
        "id": "pJFDG4GR0ELk"
      }
    },
    {
      "cell_type": "markdown",
      "source": [
        "Visualize the counts for each sentiment."
      ],
      "metadata": {
        "id": "BSbdiWDlsflZ"
      }
    },
    {
      "cell_type": "code",
      "source": [
        "# Plotting the counts.\n",
        "plt.title('Sentiment Analysis')\n",
        "plt.xlabel('Sentiment')\n",
        "plt.ylabel('Counts')\n",
        "clean_tweets['sentiment'].value_counts().plot(kind = 'bar')\n",
        "plt.show()"
      ],
      "metadata": {
        "colab": {
          "base_uri": "https://localhost:8080/",
          "height": 330
        },
        "id": "D743w03Esf98",
        "outputId": "dcaebc3c-ced0-4ab8-a994-4cbe0807882a"
      },
      "execution_count": null,
      "outputs": [
        {
          "output_type": "display_data",
          "data": {
            "text/plain": [
              "<Figure size 432x288 with 1 Axes>"
            ],
            "image/png": "[encoded data removed]"
          },
          "metadata": {
            "needs_background": "light"
          }
        }
      ]
    },
    {
      "cell_type": "markdown",
      "source": [
        "Visualize the distribution of sentiments across all tweets."
      ],
      "metadata": {
        "id": "WW7CPLLG2kP5"
      }
    },
    {
      "cell_type": "code",
      "source": [
        "# Visualize the distribution of sentiment across all tweets.\n",
        "clean_tweets.sentiment.value_counts().plot(kind='pie', autopct='%1.0f%%',  fontsize=12, figsize=(9,6), colors=[\"red\", \"yellow\", \"blue\"])\n",
        "plt.ylabel(\"Sentiments for Democracy\", size=14)"
      ],
      "metadata": {
        "colab": {
          "base_uri": "https://localhost:8080/",
          "height": 375
        },
        "id": "TR0Dn2L41nGs",
        "outputId": "ab2abe6c-f237-4648-ab0e-82c3f434c4ab"
      },
      "execution_count": null,
      "outputs": [
        {
          "output_type": "execute_result",
          "data": {
            "text/plain": [
              "Text(0, 0.5, 'Sentiments for Democracy')"
            ]
          },
          "metadata": {},
          "execution_count": 21
        },
        {
          "output_type": "display_data",
          "data": {
            "text/plain": [
              "<Figure size 648x432 with 1 Axes>"
            ],
            "image/png": "[encoded data removed]"
          },
          "metadata": {}
        }
      ]
    },
    {
      "cell_type": "markdown",
      "source": [
        "Visualize sentiments distribution based on compound scores."
      ],
      "metadata": {
        "id": "f7LgEA9IyqAt"
      }
    },
    {
      "cell_type": "code",
      "source": [
        "plt.figure(figsize=(8, 5))\n",
        "sns.histplot(clean_tweets, x='compound', color=\"darkblue\", bins=10, binrange=(-1, 1))\n",
        "plt.title(\"Democracy Sentiment Distribution\")\n",
        "plt.xlabel(\"Compound Scores\")\n",
        "plt.ylabel(\"\")\n",
        "plt.tight_layout()"
      ],
      "metadata": {
        "colab": {
          "base_uri": "https://localhost:8080/",
          "height": 369
        },
        "id": "v86BFu6TIoOy",
        "outputId": "0e416add-911d-41f5-9547-e742ab990ed0"
      },
      "execution_count": null,
      "outputs": [
        {
          "output_type": "display_data",
          "data": {
            "text/plain": [
              "<Figure size 576x360 with 1 Axes>"
            ],
            "image/png": "[encoded data removed]"
          },
          "metadata": {
            "needs_background": "light"
          }
        }
      ]
    },
    {
      "cell_type": "markdown",
      "source": [
        "**Conclusions**\n"
      ],
      "metadata": {
        "id": "dGStY1EmbJq_"
      }
    },
    {
      "cell_type": "markdown",
      "metadata": {
        "id": "wLqig4rGH8Zv"
      },
      "source": [
        "There were slightly more negative sentiments (460) then positive sentiments tweets (414) toward democracy. There were a significant number of neutral sentiments (266) toward democracy. 40% of sentiments were negative, 36% were positive, and 23% were neutral. These numbers support the current division within our country between conservative and progressive factions. Those individuals with neutral sentiments may well determine which party will prevail and determine the future course of democracy.\n",
        "                           "
      ]
    }
  ]
}